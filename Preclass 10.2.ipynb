{
 "cells": [
  {
   "cell_type": "code",
   "execution_count": 35,
   "metadata": {
    "collapsed": false
   },
   "outputs": [
   ],
   "source": [
    "import numpy as np"
   ]
  },
  {
   "cell_type": "code",
   "execution_count": 36,
   "metadata": {
    "collapsed": false
   },
   "outputs": [
   ],
   "source": [
    "def init_weights(k):\n",
    "    x = np.zeros((k, k))\n",
    "    return x\n",
    "\n",
    "def set_weights(M, neurons, memory):\n",
    "    memory.append(neurons)\n",
    "    for i in range(0, len(M)):\n",
    "        for j in range(0, len(M)):\n",
    "            if i == j:\n",
    "                M[i][j] = 0\n",
    "            else:\n",
    "                M[i][j] = M[i][j] + neurons[i]*neurons[j]\n",
    "            \n",
    "\n",
    "def activity_rule(M, neurons):\n",
    "    for i in range(0, len(M)):\n",
    "        for j in range(0, len(M)):\n",
    "            a = np.sum(M[i][j]*neurons[j])\n",
    "        if a >= 0:\n",
    "            neurons[i] = 1\n",
    "        else:\n",
    "            neurons[i] = -1\n",
    "            "
   ]
  },
  {
   "cell_type": "code",
   "execution_count": 37,
   "metadata": {
    "collapsed": false
   },
   "outputs": [
   ],
   "source": [
    "mem = []"
   ]
  },
  {
   "cell_type": "code",
   "execution_count": 38,
   "metadata": {
    "collapsed": false
   },
   "outputs": [
    {
     "name": "stdout",
     "output_type": "stream",
     "text": [
      "[[0. 0. 0. 0.]\n",
      " [0. 0. 0. 0.]\n",
      " [0. 0. 0. 0.]\n",
      " [0. 0. 0. 0.]]\n"
     ]
    }
   ],
   "source": [
    "w = init_weights(4)\n",
    "print(w)"
   ]
  },
  {
   "cell_type": "code",
   "execution_count": 39,
   "metadata": {
    "collapsed": false
   },
   "outputs": [
   ],
   "source": [
    "v1 = np.array([1, -1, -1, 1])"
   ]
  },
  {
   "cell_type": "code",
   "execution_count": 40,
   "metadata": {
    "collapsed": false
   },
   "outputs": [
    {
     "name": "stdout",
     "output_type": "stream",
     "text": [
      "[[ 0. -1. -1.  1.]\n",
      " [-1.  0.  1. -1.]\n",
      " [-1.  1.  0. -1.]\n",
      " [ 1. -1. -1.  0.]]\n"
     ]
    }
   ],
   "source": [
    "set_weights(w, v1, mem)\n",
    "print(w)"
   ]
  },
  {
   "cell_type": "code",
   "execution_count": 45,
   "metadata": {
    "collapsed": false
   },
   "outputs": [
   ],
   "source": [
    "def recall(V_c, M):\n",
    "    V_out = np.zeros(len(M))\n",
    "    for i in range(0, len(M)):\n",
    "        c = 0\n",
    "        for j in range(0, len(M)):\n",
    "            if i != j:\n",
    "                c += M[i][j]*V_c[j]\n",
    "        if c >= 0:\n",
    "            V_out[i] = 1\n",
    "        else:\n",
    "            V_out[i] = -1\n",
    "    return V_out"
   ]
  },
  {
   "cell_type": "code",
   "execution_count": 46,
   "metadata": {
    "collapsed": false
   },
   "outputs": [
    {
     "data": {
      "text/plain": [
       "array([ 1., -1., -1.,  1.])"
      ]
     },
     "execution_count": 46,
     "metadata": {
     },
     "output_type": "execute_result"
    }
   ],
   "source": [
    "corrupted_mem = np.array([1, 1, -1, 1])\n",
    "\n",
    "recall(corrupted_mem, w)"
   ]
  },
  {
   "cell_type": "code",
   "execution_count": 47,
   "metadata": {
    "collapsed": false
   },
   "outputs": [
    {
     "data": {
      "text/plain": [
       "array([ 1., -1., -1.,  1.])"
      ]
     },
     "execution_count": 47,
     "metadata": {
     },
     "output_type": "execute_result"
    }
   ],
   "source": [
    "corrupted_mem_2 = np.array([1, -1, -1, -1])\n",
    "\n",
    "recall(corrupted_mem_2, w)"
   ]
  },
  {
   "cell_type": "code",
   "execution_count": 44,
   "metadata": {
    "collapsed": false
   },
   "outputs": [
    {
     "data": {
      "text/plain": [
       "4"
      ]
     },
     "execution_count": 44,
     "metadata": {
     },
     "output_type": "execute_result"
    }
   ],
   "source": [
    "def capacity_measurer():\n",
    "    for i in range"
   ]
  },
  {
   "cell_type": "code",
   "execution_count": 0,
   "metadata": {
    "collapsed": false
   },
   "outputs": [
   ],
   "source": [
   ]
  }
 ],
 "metadata": {
  "kernelspec": {
   "display_name": "Python 3 (system-wide)",
   "language": "python",
   "metadata": {
    "cocalc": {
     "description": "Python 3 programming language",
     "priority": 100,
     "url": "https://www.python.org/"
    }
   },
   "name": "python3"
  },
  "language_info": {
   "codemirror_mode": {
    "name": "ipython",
    "version": 3
   },
   "file_extension": ".py",
   "mimetype": "text/x-python",
   "name": "python",
   "nbconvert_exporter": "python",
   "pygments_lexer": "ipython3",
   "version": "3.6.8"
  }
 },
 "nbformat": 4,
 "nbformat_minor": 0
}