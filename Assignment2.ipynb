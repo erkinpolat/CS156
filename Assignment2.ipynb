{
 "cells": [
  {
   "cell_type": "code",
   "execution_count": 1,
   "outputs": [],
   "source": [
    "#Importing the libraries\n",
    "\n",
    "import pandas as pd\n",
    "import numpy as np\n",
    "import seaborn as sns\n",
    "\n",
    "%matplotlib inline"
   ],
   "metadata": {
    "collapsed": false,
    "pycharm": {
     "name": "#%%\n",
     "is_executing": false
    }
   }
  },
  {
   "cell_type": "code",
   "execution_count": 2,
   "outputs": [],
   "source": [
    "#Loading the data\n",
    "\n",
    "accept_data = pd.read_csv('LoanStats3a.csv', low_memory = False, skiprows=[0])\n",
    "\n",
    "reject_data = pd.read_csv('RejectStatsA.csv', low_memory=False, skiprows=[0])"
   ],
   "metadata": {
    "collapsed": false,
    "pycharm": {
     "name": "#%%\n",
     "is_executing": false
    }
   }
  },
  {
   "cell_type": "code",
   "execution_count": 3,
   "outputs": [
    {
     "data": {
      "text/plain": "    id  member_id  loan_amnt  funded_amnt  funded_amnt_inv        term  \\\n0  NaN        NaN     5000.0       5000.0           4975.0   36 months   \n1  NaN        NaN     2500.0       2500.0           2500.0   60 months   \n2  NaN        NaN     2400.0       2400.0           2400.0   36 months   \n3  NaN        NaN    10000.0      10000.0          10000.0   36 months   \n4  NaN        NaN     3000.0       3000.0           3000.0   60 months   \n\n  int_rate  installment grade sub_grade  ... hardship_payoff_balance_amount  \\\n0   10.65%       162.87     B        B2  ...                            NaN   \n1   15.27%        59.83     C        C4  ...                            NaN   \n2   15.96%        84.33     C        C5  ...                            NaN   \n3   13.49%       339.31     C        C1  ...                            NaN   \n4   12.69%        67.79     B        B5  ...                            NaN   \n\n  hardship_last_payment_amount disbursement_method  debt_settlement_flag  \\\n0                          NaN                Cash                     N   \n1                          NaN                Cash                     N   \n2                          NaN                Cash                     N   \n3                          NaN                Cash                     N   \n4                          NaN                Cash                     N   \n\n  debt_settlement_flag_date settlement_status settlement_date  \\\n0                       NaN               NaN             NaN   \n1                       NaN               NaN             NaN   \n2                       NaN               NaN             NaN   \n3                       NaN               NaN             NaN   \n4                       NaN               NaN             NaN   \n\n  settlement_amount  settlement_percentage settlement_term  \n0               NaN                    NaN             NaN  \n1               NaN                    NaN             NaN  \n2               NaN                    NaN             NaN  \n3               NaN                    NaN             NaN  \n4               NaN                    NaN             NaN  \n\n[5 rows x 145 columns]",
      "text/html": "<div>\n<style scoped>\n    .dataframe tbody tr th:only-of-type {\n        vertical-align: middle;\n    }\n\n    .dataframe tbody tr th {\n        vertical-align: top;\n    }\n\n    .dataframe thead th {\n        text-align: right;\n    }\n</style>\n<table border=\"1\" class=\"dataframe\">\n  <thead>\n    <tr style=\"text-align: right;\">\n      <th></th>\n      <th>id</th>\n      <th>member_id</th>\n      <th>loan_amnt</th>\n      <th>funded_amnt</th>\n      <th>funded_amnt_inv</th>\n      <th>term</th>\n      <th>int_rate</th>\n      <th>installment</th>\n      <th>grade</th>\n      <th>sub_grade</th>\n      <th>...</th>\n      <th>hardship_payoff_balance_amount</th>\n      <th>hardship_last_payment_amount</th>\n      <th>disbursement_method</th>\n      <th>debt_settlement_flag</th>\n      <th>debt_settlement_flag_date</th>\n      <th>settlement_status</th>\n      <th>settlement_date</th>\n      <th>settlement_amount</th>\n      <th>settlement_percentage</th>\n      <th>settlement_term</th>\n    </tr>\n  </thead>\n  <tbody>\n    <tr>\n      <td>0</td>\n      <td>NaN</td>\n      <td>NaN</td>\n      <td>5000.0</td>\n      <td>5000.0</td>\n      <td>4975.0</td>\n      <td>36 months</td>\n      <td>10.65%</td>\n      <td>162.87</td>\n      <td>B</td>\n      <td>B2</td>\n      <td>...</td>\n      <td>NaN</td>\n      <td>NaN</td>\n      <td>Cash</td>\n      <td>N</td>\n      <td>NaN</td>\n      <td>NaN</td>\n      <td>NaN</td>\n      <td>NaN</td>\n      <td>NaN</td>\n      <td>NaN</td>\n    </tr>\n    <tr>\n      <td>1</td>\n      <td>NaN</td>\n      <td>NaN</td>\n      <td>2500.0</td>\n      <td>2500.0</td>\n      <td>2500.0</td>\n      <td>60 months</td>\n      <td>15.27%</td>\n      <td>59.83</td>\n      <td>C</td>\n      <td>C4</td>\n      <td>...</td>\n      <td>NaN</td>\n      <td>NaN</td>\n      <td>Cash</td>\n      <td>N</td>\n      <td>NaN</td>\n      <td>NaN</td>\n      <td>NaN</td>\n      <td>NaN</td>\n      <td>NaN</td>\n      <td>NaN</td>\n    </tr>\n    <tr>\n      <td>2</td>\n      <td>NaN</td>\n      <td>NaN</td>\n      <td>2400.0</td>\n      <td>2400.0</td>\n      <td>2400.0</td>\n      <td>36 months</td>\n      <td>15.96%</td>\n      <td>84.33</td>\n      <td>C</td>\n      <td>C5</td>\n      <td>...</td>\n      <td>NaN</td>\n      <td>NaN</td>\n      <td>Cash</td>\n      <td>N</td>\n      <td>NaN</td>\n      <td>NaN</td>\n      <td>NaN</td>\n      <td>NaN</td>\n      <td>NaN</td>\n      <td>NaN</td>\n    </tr>\n    <tr>\n      <td>3</td>\n      <td>NaN</td>\n      <td>NaN</td>\n      <td>10000.0</td>\n      <td>10000.0</td>\n      <td>10000.0</td>\n      <td>36 months</td>\n      <td>13.49%</td>\n      <td>339.31</td>\n      <td>C</td>\n      <td>C1</td>\n      <td>...</td>\n      <td>NaN</td>\n      <td>NaN</td>\n      <td>Cash</td>\n      <td>N</td>\n      <td>NaN</td>\n      <td>NaN</td>\n      <td>NaN</td>\n      <td>NaN</td>\n      <td>NaN</td>\n      <td>NaN</td>\n    </tr>\n    <tr>\n      <td>4</td>\n      <td>NaN</td>\n      <td>NaN</td>\n      <td>3000.0</td>\n      <td>3000.0</td>\n      <td>3000.0</td>\n      <td>60 months</td>\n      <td>12.69%</td>\n      <td>67.79</td>\n      <td>B</td>\n      <td>B5</td>\n      <td>...</td>\n      <td>NaN</td>\n      <td>NaN</td>\n      <td>Cash</td>\n      <td>N</td>\n      <td>NaN</td>\n      <td>NaN</td>\n      <td>NaN</td>\n      <td>NaN</td>\n      <td>NaN</td>\n      <td>NaN</td>\n    </tr>\n  </tbody>\n</table>\n<p>5 rows × 145 columns</p>\n</div>"
     },
     "metadata": {},
     "output_type": "execute_result",
     "execution_count": 3
    }
   ],
   "source": [
    "#Checking the data\n",
    "\n",
    "accept_data.head()"
   ],
   "metadata": {
    "collapsed": false,
    "pycharm": {
     "name": "#%%\n",
     "is_executing": false
    }
   }
  },
  {
   "cell_type": "code",
   "execution_count": 4,
   "outputs": [
    {
     "data": {
      "text/plain": "   Amount Requested Application Date                        Loan Title  \\\n0            1000.0       2007-05-26  Wedding Covered but No Honeymoon   \n1            1000.0       2007-05-26                Consolidating Debt   \n2           11000.0       2007-05-27       Want to consolidate my debt   \n3            6000.0       2007-05-27                           waksman   \n4            1500.0       2007-05-27                            mdrigo   \n\n   Risk_Score Debt-To-Income Ratio Zip Code State Employment Length  \\\n0       693.0                  10%    481xx    NM           4 years   \n1       703.0                  10%    010xx    MA          < 1 year   \n2       715.0                  10%    212xx    MD            1 year   \n3       698.0               38.64%    017xx    MA          < 1 year   \n4       509.0                9.43%    209xx    MD          < 1 year   \n\n   Policy Code  \n0            0  \n1            0  \n2            0  \n3            0  \n4            0  ",
      "text/html": "<div>\n<style scoped>\n    .dataframe tbody tr th:only-of-type {\n        vertical-align: middle;\n    }\n\n    .dataframe tbody tr th {\n        vertical-align: top;\n    }\n\n    .dataframe thead th {\n        text-align: right;\n    }\n</style>\n<table border=\"1\" class=\"dataframe\">\n  <thead>\n    <tr style=\"text-align: right;\">\n      <th></th>\n      <th>Amount Requested</th>\n      <th>Application Date</th>\n      <th>Loan Title</th>\n      <th>Risk_Score</th>\n      <th>Debt-To-Income Ratio</th>\n      <th>Zip Code</th>\n      <th>State</th>\n      <th>Employment Length</th>\n      <th>Policy Code</th>\n    </tr>\n  </thead>\n  <tbody>\n    <tr>\n      <td>0</td>\n      <td>1000.0</td>\n      <td>2007-05-26</td>\n      <td>Wedding Covered but No Honeymoon</td>\n      <td>693.0</td>\n      <td>10%</td>\n      <td>481xx</td>\n      <td>NM</td>\n      <td>4 years</td>\n      <td>0</td>\n    </tr>\n    <tr>\n      <td>1</td>\n      <td>1000.0</td>\n      <td>2007-05-26</td>\n      <td>Consolidating Debt</td>\n      <td>703.0</td>\n      <td>10%</td>\n      <td>010xx</td>\n      <td>MA</td>\n      <td>&lt; 1 year</td>\n      <td>0</td>\n    </tr>\n    <tr>\n      <td>2</td>\n      <td>11000.0</td>\n      <td>2007-05-27</td>\n      <td>Want to consolidate my debt</td>\n      <td>715.0</td>\n      <td>10%</td>\n      <td>212xx</td>\n      <td>MD</td>\n      <td>1 year</td>\n      <td>0</td>\n    </tr>\n    <tr>\n      <td>3</td>\n      <td>6000.0</td>\n      <td>2007-05-27</td>\n      <td>waksman</td>\n      <td>698.0</td>\n      <td>38.64%</td>\n      <td>017xx</td>\n      <td>MA</td>\n      <td>&lt; 1 year</td>\n      <td>0</td>\n    </tr>\n    <tr>\n      <td>4</td>\n      <td>1500.0</td>\n      <td>2007-05-27</td>\n      <td>mdrigo</td>\n      <td>509.0</td>\n      <td>9.43%</td>\n      <td>209xx</td>\n      <td>MD</td>\n      <td>&lt; 1 year</td>\n      <td>0</td>\n    </tr>\n  </tbody>\n</table>\n</div>"
     },
     "metadata": {},
     "output_type": "execute_result",
     "execution_count": 4
    }
   ],
   "source": [
    "reject_data.head()"
   ],
   "metadata": {
    "collapsed": false,
    "pycharm": {
     "name": "#%%\n",
     "is_executing": false
    }
   }
  },
  {
   "cell_type": "code",
   "execution_count": 5,
   "outputs": [
    {
     "data": {
      "text/plain": "['id',\n 'member_id',\n 'loan_amnt',\n 'funded_amnt',\n 'funded_amnt_inv',\n 'term',\n 'int_rate',\n 'installment',\n 'grade',\n 'sub_grade',\n 'emp_title',\n 'emp_length',\n 'home_ownership',\n 'annual_inc',\n 'verification_status',\n 'issue_d',\n 'loan_status',\n 'pymnt_plan',\n 'url',\n 'desc',\n 'purpose',\n 'title',\n 'zip_code',\n 'addr_state',\n 'dti',\n 'delinq_2yrs',\n 'earliest_cr_line',\n 'inq_last_6mths',\n 'mths_since_last_delinq',\n 'mths_since_last_record',\n 'open_acc',\n 'pub_rec',\n 'revol_bal',\n 'revol_util',\n 'total_acc',\n 'initial_list_status',\n 'out_prncp',\n 'out_prncp_inv',\n 'total_pymnt',\n 'total_pymnt_inv',\n 'total_rec_prncp',\n 'total_rec_int',\n 'total_rec_late_fee',\n 'recoveries',\n 'collection_recovery_fee',\n 'last_pymnt_d',\n 'last_pymnt_amnt',\n 'next_pymnt_d',\n 'last_credit_pull_d',\n 'collections_12_mths_ex_med',\n 'mths_since_last_major_derog',\n 'policy_code',\n 'application_type',\n 'annual_inc_joint',\n 'dti_joint',\n 'verification_status_joint',\n 'acc_now_delinq',\n 'tot_coll_amt',\n 'tot_cur_bal',\n 'open_acc_6m',\n 'open_act_il',\n 'open_il_12m',\n 'open_il_24m',\n 'mths_since_rcnt_il',\n 'total_bal_il',\n 'il_util',\n 'open_rv_12m',\n 'open_rv_24m',\n 'max_bal_bc',\n 'all_util',\n 'total_rev_hi_lim',\n 'inq_fi',\n 'total_cu_tl',\n 'inq_last_12m',\n 'acc_open_past_24mths',\n 'avg_cur_bal',\n 'bc_open_to_buy',\n 'bc_util',\n 'chargeoff_within_12_mths',\n 'delinq_amnt',\n 'mo_sin_old_il_acct',\n 'mo_sin_old_rev_tl_op',\n 'mo_sin_rcnt_rev_tl_op',\n 'mo_sin_rcnt_tl',\n 'mort_acc',\n 'mths_since_recent_bc',\n 'mths_since_recent_bc_dlq',\n 'mths_since_recent_inq',\n 'mths_since_recent_revol_delinq',\n 'num_accts_ever_120_pd',\n 'num_actv_bc_tl',\n 'num_actv_rev_tl',\n 'num_bc_sats',\n 'num_bc_tl',\n 'num_il_tl',\n 'num_op_rev_tl',\n 'num_rev_accts',\n 'num_rev_tl_bal_gt_0',\n 'num_sats',\n 'num_tl_120dpd_2m',\n 'num_tl_30dpd',\n 'num_tl_90g_dpd_24m',\n 'num_tl_op_past_12m',\n 'pct_tl_nvr_dlq',\n 'percent_bc_gt_75',\n 'pub_rec_bankruptcies',\n 'tax_liens',\n 'tot_hi_cred_lim',\n 'total_bal_ex_mort',\n 'total_bc_limit',\n 'total_il_high_credit_limit',\n 'revol_bal_joint',\n 'sec_app_earliest_cr_line',\n 'sec_app_inq_last_6mths',\n 'sec_app_mort_acc',\n 'sec_app_open_acc',\n 'sec_app_revol_util',\n 'sec_app_open_act_il',\n 'sec_app_num_rev_accts',\n 'sec_app_chargeoff_within_12_mths',\n 'sec_app_collections_12_mths_ex_med',\n 'sec_app_mths_since_last_major_derog',\n 'hardship_flag',\n 'hardship_type',\n 'hardship_reason',\n 'hardship_status',\n 'deferral_term',\n 'hardship_amount',\n 'hardship_start_date',\n 'hardship_end_date',\n 'payment_plan_start_date',\n 'hardship_length',\n 'hardship_dpd',\n 'hardship_loan_status',\n 'orig_projected_additional_accrued_interest',\n 'hardship_payoff_balance_amount',\n 'hardship_last_payment_amount',\n 'disbursement_method',\n 'debt_settlement_flag',\n 'debt_settlement_flag_date',\n 'settlement_status',\n 'settlement_date',\n 'settlement_amount',\n 'settlement_percentage',\n 'settlement_term']"
     },
     "metadata": {},
     "output_type": "execute_result",
     "execution_count": 5
    }
   ],
   "source": [
    "list(accept_data)"
   ],
   "metadata": {
    "collapsed": false,
    "pycharm": {
     "name": "#%%\n",
     "is_executing": false
    }
   }
  },
  {
   "cell_type": "code",
   "execution_count": 6,
   "outputs": [
    {
     "name": "stdout",
     "text": [
      "1.0    42535\nName: policy_code, dtype: int64\n0    755491\nName: Policy Code, dtype: int64\n"
     ],
     "output_type": "stream"
    }
   ],
   "source": [
    "#Confirming that policy code stands for whether or not someone gets the loan\n",
    "\n",
    "print(accept_data['policy_code'].value_counts())\n",
    "print(reject_data['Policy Code'].value_counts())"
   ],
   "metadata": {
    "collapsed": false,
    "pycharm": {
     "name": "#%%\n",
     "is_executing": false
    }
   }
  },
  {
   "cell_type": "code",
   "execution_count": 7,
   "outputs": [
    {
     "data": {
      "text/plain": "['Amount Requested',\n 'Application Date',\n 'Loan Title',\n 'Risk_Score',\n 'Debt-To-Income Ratio',\n 'Zip Code',\n 'State',\n 'Employment Length',\n 'Policy Code']"
     },
     "metadata": {},
     "output_type": "execute_result",
     "execution_count": 7
    }
   ],
   "source": [
    "#Looking at the column names\n",
    "\n",
    "list(reject_data)"
   ],
   "metadata": {
    "collapsed": false,
    "pycharm": {
     "name": "#%%\n",
     "is_executing": false
    }
   }
  },
  {
   "cell_type": "code",
   "execution_count": 8,
   "outputs": [],
   "source": [
    "#After detecting the useful and matching columns we extract them from the data frames \n",
    "#and make the columns have the same titles\n",
    "\n",
    "accept_data = accept_data[['loan_amnt', 'issue_d', 'dti', 'addr_state', 'emp_length', 'policy_code']]\n",
    "reject_data = reject_data[['Amount Requested', 'Application Date', 'Debt-To-Income Ratio', 'State', 'Employment Length', 'Policy Code']]\n",
    "\n",
    "accept_data.rename(index=str, inplace=True, columns={'loan_amnt': 'Amount Requested', 'issue_d': 'Application Date', 'dti': 'Debt-To-Income Ratio', 'addr_state': 'State', 'emp_length': 'Employment Length', 'policy_code': 'Policy Code'})"
   ],
   "metadata": {
    "collapsed": false,
    "pycharm": {
     "name": "#%%\n",
     "is_executing": false
    }
   }
  },
  {
   "cell_type": "code",
   "execution_count": 9,
   "outputs": [
    {
     "data": {
      "text/plain": "<matplotlib.axes._subplots.AxesSubplot at 0x127369c50>"
     },
     "metadata": {},
     "output_type": "execute_result",
     "execution_count": 9
    },
    {
     "data": {
      "text/plain": "<Figure size 432x288 with 1 Axes>",
      "image/png": "[encoded data removed]"
     },
     "metadata": {
      "needs_background": "light"
     },
     "output_type": "display_data"
    }
   ],
   "source": [
    "#With a heatmap looking at the null values. Since this is a very small portion of the data, \n",
    "# I end dropping those rows\n",
    "\n",
    "sns.heatmap(accept_data.isna(), yticklabels=False, cbar=False, cmap='viridis')"
   ],
   "metadata": {
    "collapsed": false,
    "pycharm": {
     "name": "#%%\n",
     "is_executing": false
    }
   }
  },
  {
   "cell_type": "code",
   "execution_count": 10,
   "outputs": [
    {
     "data": {
      "text/plain": "<matplotlib.axes._subplots.AxesSubplot at 0x12961e290>"
     },
     "metadata": {},
     "output_type": "execute_result",
     "execution_count": 10
    },
    {
     "data": {
      "text/plain": "<Figure size 432x288 with 1 Axes>",
      "image/png": "[encoded data removed]"
     },
     "metadata": {
      "needs_background": "light"
     },
     "output_type": "display_data"
    }
   ],
   "source": [
    "sns.heatmap(reject_data.isna(), yticklabels=False, cbar=False, cmap='viridis')"
   ],
   "metadata": {
    "collapsed": false,
    "pycharm": {
     "name": "#%%\n",
     "is_executing": false
    }
   }
  },
  {
   "cell_type": "code",
   "execution_count": 11,
   "outputs": [
    {
     "name": "stdout",
     "text": [
      "<class 'pandas.core.frame.DataFrame'>\nIndex: 42538 entries, 0 to 42537\nData columns (total 6 columns):\nAmount Requested        42535 non-null float64\nApplication Date        42535 non-null object\nDebt-To-Income Ratio    42535 non-null float64\nState                   42535 non-null object\nEmployment Length       41423 non-null object\nPolicy Code             42535 non-null float64\ndtypes: float64(3), object(3)\nmemory usage: 2.3+ MB\n"
     ],
     "output_type": "stream"
    }
   ],
   "source": [
    "#Looking at the counts to see the null values numerically\n",
    "\n",
    "accept_data.info()"
   ],
   "metadata": {
    "collapsed": false,
    "pycharm": {
     "name": "#%%\n",
     "is_executing": false
    }
   }
  },
  {
   "cell_type": "code",
   "execution_count": 12,
   "outputs": [
    {
     "name": "stdout",
     "text": [
      "<class 'pandas.core.frame.DataFrame'>\nRangeIndex: 755491 entries, 0 to 755490\nData columns (total 6 columns):\nAmount Requested        755491 non-null float64\nApplication Date        755491 non-null object\nDebt-To-Income Ratio    755491 non-null object\nState                   755470 non-null object\nEmployment Length       747361 non-null object\nPolicy Code             755491 non-null int64\ndtypes: float64(1), int64(1), object(4)\nmemory usage: 34.6+ MB\n"
     ],
     "output_type": "stream"
    }
   ],
   "source": [
    "reject_data.info()"
   ],
   "metadata": {
    "collapsed": false,
    "pycharm": {
     "name": "#%%\n",
     "is_executing": false
    }
   }
  },
  {
   "cell_type": "code",
   "execution_count": 13,
   "outputs": [
    {
     "data": {
      "text/plain": "Amount Requested        42535\nApplication Date        42535\nDebt-To-Income Ratio    42535\nState                   42535\nEmployment Length       41423\nPolicy Code             42535\ndtype: int64"
     },
     "metadata": {},
     "output_type": "execute_result",
     "execution_count": 13
    }
   ],
   "source": [
    "accept_data[accept_data.isna() == 0].count()"
   ],
   "metadata": {
    "collapsed": false,
    "pycharm": {
     "name": "#%%\n",
     "is_executing": false
    }
   }
  },
  {
   "cell_type": "code",
   "execution_count": 14,
   "outputs": [],
   "source": [
    "#Dropping the null rows from accept data\n",
    "\n",
    "accept_data.dropna(inplace=True)"
   ],
   "metadata": {
    "collapsed": false,
    "pycharm": {
     "name": "#%%\n",
     "is_executing": false
    }
   }
  },
  {
   "cell_type": "code",
   "execution_count": 15,
   "outputs": [
    {
     "name": "stdout",
     "text": [
      "<class 'pandas.core.frame.DataFrame'>\nIndex: 41423 entries, 0 to 42535\nData columns (total 6 columns):\nAmount Requested        41423 non-null float64\nApplication Date        41423 non-null object\nDebt-To-Income Ratio    41423 non-null float64\nState                   41423 non-null object\nEmployment Length       41423 non-null object\nPolicy Code             41423 non-null float64\ndtypes: float64(3), object(3)\nmemory usage: 2.2+ MB\n"
     ],
     "output_type": "stream"
    }
   ],
   "source": [
    "accept_data.info()"
   ],
   "metadata": {
    "collapsed": false,
    "pycharm": {
     "name": "#%%\n",
     "is_executing": false
    }
   }
  },
  {
   "cell_type": "code",
   "execution_count": 16,
   "outputs": [],
   "source": [
    "#Dropping the null values from the reject data\n",
    "\n",
    "reject_data.dropna(inplace=True)"
   ],
   "metadata": {
    "collapsed": false,
    "pycharm": {
     "name": "#%%\n",
     "is_executing": false
    }
   }
  },
  {
   "cell_type": "code",
   "execution_count": 17,
   "outputs": [
    {
     "name": "stdout",
     "text": [
      "<class 'pandas.core.frame.DataFrame'>\nInt64Index: 747340 entries, 0 to 755490\nData columns (total 6 columns):\nAmount Requested        747340 non-null float64\nApplication Date        747340 non-null object\nDebt-To-Income Ratio    747340 non-null object\nState                   747340 non-null object\nEmployment Length       747340 non-null object\nPolicy Code             747340 non-null int64\ndtypes: float64(1), int64(1), object(4)\nmemory usage: 39.9+ MB\n"
     ],
     "output_type": "stream"
    }
   ],
   "source": [
    "reject_data.info()"
   ],
   "metadata": {
    "collapsed": false,
    "pycharm": {
     "name": "#%%\n",
     "is_executing": false
    }
   }
  },
  {
   "cell_type": "code",
   "execution_count": 18,
   "outputs": [
    {
     "data": {
      "text/plain": "   Amount Requested Application Date  Debt-To-Income Ratio State  \\\n0            5000.0         Dec-2011                 27.65    AZ   \n1            2500.0         Dec-2011                  1.00    GA   \n2            2400.0         Dec-2011                  8.72    IL   \n3           10000.0         Dec-2011                 20.00    CA   \n4            3000.0         Dec-2011                 17.94    OR   \n\n  Employment Length  Policy Code  \n0         10+ years          1.0  \n1          < 1 year          1.0  \n2         10+ years          1.0  \n3         10+ years          1.0  \n4            1 year          1.0  ",
      "text/html": "<div>\n<style scoped>\n    .dataframe tbody tr th:only-of-type {\n        vertical-align: middle;\n    }\n\n    .dataframe tbody tr th {\n        vertical-align: top;\n    }\n\n    .dataframe thead th {\n        text-align: right;\n    }\n</style>\n<table border=\"1\" class=\"dataframe\">\n  <thead>\n    <tr style=\"text-align: right;\">\n      <th></th>\n      <th>Amount Requested</th>\n      <th>Application Date</th>\n      <th>Debt-To-Income Ratio</th>\n      <th>State</th>\n      <th>Employment Length</th>\n      <th>Policy Code</th>\n    </tr>\n  </thead>\n  <tbody>\n    <tr>\n      <td>0</td>\n      <td>5000.0</td>\n      <td>Dec-2011</td>\n      <td>27.65</td>\n      <td>AZ</td>\n      <td>10+ years</td>\n      <td>1.0</td>\n    </tr>\n    <tr>\n      <td>1</td>\n      <td>2500.0</td>\n      <td>Dec-2011</td>\n      <td>1.00</td>\n      <td>GA</td>\n      <td>&lt; 1 year</td>\n      <td>1.0</td>\n    </tr>\n    <tr>\n      <td>2</td>\n      <td>2400.0</td>\n      <td>Dec-2011</td>\n      <td>8.72</td>\n      <td>IL</td>\n      <td>10+ years</td>\n      <td>1.0</td>\n    </tr>\n    <tr>\n      <td>3</td>\n      <td>10000.0</td>\n      <td>Dec-2011</td>\n      <td>20.00</td>\n      <td>CA</td>\n      <td>10+ years</td>\n      <td>1.0</td>\n    </tr>\n    <tr>\n      <td>4</td>\n      <td>3000.0</td>\n      <td>Dec-2011</td>\n      <td>17.94</td>\n      <td>OR</td>\n      <td>1 year</td>\n      <td>1.0</td>\n    </tr>\n  </tbody>\n</table>\n</div>"
     },
     "metadata": {},
     "output_type": "execute_result",
     "execution_count": 18
    }
   ],
   "source": [
    "accept_data.head()"
   ],
   "metadata": {
    "collapsed": false,
    "pycharm": {
     "name": "#%%\n",
     "is_executing": false
    }
   }
  },
  {
   "cell_type": "code",
   "execution_count": 19,
   "outputs": [],
   "source": [
    "#Converting the times to matching formats that the algorithm can read.\n",
    "#I first turn them into numerical representations\n",
    "\n",
    "from datetime import datetime as dt\n",
    "\n",
    "accept_data['Application Date'] = list(map(lambda x: dt.strptime(\"01-\" + str(x), '%d-%b-%Y'), accept_data['Application Date']))"
   ],
   "metadata": {
    "collapsed": false,
    "pycharm": {
     "name": "#%%\n",
     "is_executing": false
    }
   }
  },
  {
   "cell_type": "code",
   "execution_count": 20,
   "outputs": [
    {
     "data": {
      "text/plain": "   Amount Requested Application Date  Debt-To-Income Ratio State  \\\n0            5000.0       2011-12-01                 27.65    AZ   \n1            2500.0       2011-12-01                  1.00    GA   \n2            2400.0       2011-12-01                  8.72    IL   \n\n  Employment Length  Policy Code  \n0         10+ years          1.0  \n1          < 1 year          1.0  \n2         10+ years          1.0  ",
      "text/html": "<div>\n<style scoped>\n    .dataframe tbody tr th:only-of-type {\n        vertical-align: middle;\n    }\n\n    .dataframe tbody tr th {\n        vertical-align: top;\n    }\n\n    .dataframe thead th {\n        text-align: right;\n    }\n</style>\n<table border=\"1\" class=\"dataframe\">\n  <thead>\n    <tr style=\"text-align: right;\">\n      <th></th>\n      <th>Amount Requested</th>\n      <th>Application Date</th>\n      <th>Debt-To-Income Ratio</th>\n      <th>State</th>\n      <th>Employment Length</th>\n      <th>Policy Code</th>\n    </tr>\n  </thead>\n  <tbody>\n    <tr>\n      <td>0</td>\n      <td>5000.0</td>\n      <td>2011-12-01</td>\n      <td>27.65</td>\n      <td>AZ</td>\n      <td>10+ years</td>\n      <td>1.0</td>\n    </tr>\n    <tr>\n      <td>1</td>\n      <td>2500.0</td>\n      <td>2011-12-01</td>\n      <td>1.00</td>\n      <td>GA</td>\n      <td>&lt; 1 year</td>\n      <td>1.0</td>\n    </tr>\n    <tr>\n      <td>2</td>\n      <td>2400.0</td>\n      <td>2011-12-01</td>\n      <td>8.72</td>\n      <td>IL</td>\n      <td>10+ years</td>\n      <td>1.0</td>\n    </tr>\n  </tbody>\n</table>\n</div>"
     },
     "metadata": {},
     "output_type": "execute_result",
     "execution_count": 20
    }
   ],
   "source": [
    "accept_data.head(3)"
   ],
   "metadata": {
    "collapsed": false,
    "pycharm": {
     "name": "#%%\n",
     "is_executing": false
    }
   }
  },
  {
   "cell_type": "code",
   "execution_count": 21,
   "outputs": [],
   "source": [
    "#Even though the format matches I need to convert these into date format\n",
    "\n",
    "reject_data['Application Date'] = list(map(lambda x: dt.strptime(x, '%Y-%m-%d'), reject_data['Application Date']))"
   ],
   "metadata": {
    "collapsed": false,
    "pycharm": {
     "name": "#%%\n",
     "is_executing": false
    }
   }
  },
  {
   "cell_type": "code",
   "execution_count": 22,
   "outputs": [
    {
     "data": {
      "text/plain": "   Amount Requested Application Date Debt-To-Income Ratio State  \\\n0            1000.0       2007-05-26                  10%    NM   \n1            1000.0       2007-05-26                  10%    MA   \n2           11000.0       2007-05-27                  10%    MD   \n\n  Employment Length  Policy Code  \n0           4 years            0  \n1          < 1 year            0  \n2            1 year            0  ",
      "text/html": "<div>\n<style scoped>\n    .dataframe tbody tr th:only-of-type {\n        vertical-align: middle;\n    }\n\n    .dataframe tbody tr th {\n        vertical-align: top;\n    }\n\n    .dataframe thead th {\n        text-align: right;\n    }\n</style>\n<table border=\"1\" class=\"dataframe\">\n  <thead>\n    <tr style=\"text-align: right;\">\n      <th></th>\n      <th>Amount Requested</th>\n      <th>Application Date</th>\n      <th>Debt-To-Income Ratio</th>\n      <th>State</th>\n      <th>Employment Length</th>\n      <th>Policy Code</th>\n    </tr>\n  </thead>\n  <tbody>\n    <tr>\n      <td>0</td>\n      <td>1000.0</td>\n      <td>2007-05-26</td>\n      <td>10%</td>\n      <td>NM</td>\n      <td>4 years</td>\n      <td>0</td>\n    </tr>\n    <tr>\n      <td>1</td>\n      <td>1000.0</td>\n      <td>2007-05-26</td>\n      <td>10%</td>\n      <td>MA</td>\n      <td>&lt; 1 year</td>\n      <td>0</td>\n    </tr>\n    <tr>\n      <td>2</td>\n      <td>11000.0</td>\n      <td>2007-05-27</td>\n      <td>10%</td>\n      <td>MD</td>\n      <td>1 year</td>\n      <td>0</td>\n    </tr>\n  </tbody>\n</table>\n</div>"
     },
     "metadata": {},
     "output_type": "execute_result",
     "execution_count": 22
    }
   ],
   "source": [
    "reject_data.head(3)"
   ],
   "metadata": {
    "collapsed": false,
    "pycharm": {
     "name": "#%%\n",
     "is_executing": false
    }
   }
  },
  {
   "cell_type": "code",
   "execution_count": 23,
   "outputs": [],
   "source": [
    "#Removing the percent sign from the reject data\n",
    "\n",
    "reject_data['Debt-To-Income Ratio'] = reject_data['Debt-To-Income Ratio'].apply(lambda x: float(x[:-1]))"
   ],
   "metadata": {
    "collapsed": false,
    "pycharm": {
     "name": "#%%\n",
     "is_executing": false
    }
   }
  },
  {
   "cell_type": "code",
   "execution_count": 24,
   "outputs": [
    {
     "data": {
      "text/plain": "   Amount Requested Application Date  Debt-To-Income Ratio State  \\\n0            1000.0       2007-05-26                  10.0    NM   \n1            1000.0       2007-05-26                  10.0    MA   \n2           11000.0       2007-05-27                  10.0    MD   \n\n  Employment Length  Policy Code  \n0           4 years            0  \n1          < 1 year            0  \n2            1 year            0  ",
      "text/html": "<div>\n<style scoped>\n    .dataframe tbody tr th:only-of-type {\n        vertical-align: middle;\n    }\n\n    .dataframe tbody tr th {\n        vertical-align: top;\n    }\n\n    .dataframe thead th {\n        text-align: right;\n    }\n</style>\n<table border=\"1\" class=\"dataframe\">\n  <thead>\n    <tr style=\"text-align: right;\">\n      <th></th>\n      <th>Amount Requested</th>\n      <th>Application Date</th>\n      <th>Debt-To-Income Ratio</th>\n      <th>State</th>\n      <th>Employment Length</th>\n      <th>Policy Code</th>\n    </tr>\n  </thead>\n  <tbody>\n    <tr>\n      <td>0</td>\n      <td>1000.0</td>\n      <td>2007-05-26</td>\n      <td>10.0</td>\n      <td>NM</td>\n      <td>4 years</td>\n      <td>0</td>\n    </tr>\n    <tr>\n      <td>1</td>\n      <td>1000.0</td>\n      <td>2007-05-26</td>\n      <td>10.0</td>\n      <td>MA</td>\n      <td>&lt; 1 year</td>\n      <td>0</td>\n    </tr>\n    <tr>\n      <td>2</td>\n      <td>11000.0</td>\n      <td>2007-05-27</td>\n      <td>10.0</td>\n      <td>MD</td>\n      <td>1 year</td>\n      <td>0</td>\n    </tr>\n  </tbody>\n</table>\n</div>"
     },
     "metadata": {},
     "output_type": "execute_result",
     "execution_count": 24
    }
   ],
   "source": [
    "reject_data.head(3)"
   ],
   "metadata": {
    "collapsed": false,
    "pycharm": {
     "name": "#%%\n",
     "is_executing": false
    }
   }
  },
  {
   "cell_type": "code",
   "execution_count": 25,
   "outputs": [
    {
     "data": {
      "text/plain": "   Amount Requested Application Date  Debt-To-Income Ratio State  \\\n0            5000.0       2011-12-01                 27.65    AZ   \n1            2500.0       2011-12-01                  1.00    GA   \n2            2400.0       2011-12-01                  8.72    IL   \n\n  Employment Length  Policy Code  \n0         10+ years          1.0  \n1          < 1 year          1.0  \n2         10+ years          1.0  ",
      "text/html": "<div>\n<style scoped>\n    .dataframe tbody tr th:only-of-type {\n        vertical-align: middle;\n    }\n\n    .dataframe tbody tr th {\n        vertical-align: top;\n    }\n\n    .dataframe thead th {\n        text-align: right;\n    }\n</style>\n<table border=\"1\" class=\"dataframe\">\n  <thead>\n    <tr style=\"text-align: right;\">\n      <th></th>\n      <th>Amount Requested</th>\n      <th>Application Date</th>\n      <th>Debt-To-Income Ratio</th>\n      <th>State</th>\n      <th>Employment Length</th>\n      <th>Policy Code</th>\n    </tr>\n  </thead>\n  <tbody>\n    <tr>\n      <td>0</td>\n      <td>5000.0</td>\n      <td>2011-12-01</td>\n      <td>27.65</td>\n      <td>AZ</td>\n      <td>10+ years</td>\n      <td>1.0</td>\n    </tr>\n    <tr>\n      <td>1</td>\n      <td>2500.0</td>\n      <td>2011-12-01</td>\n      <td>1.00</td>\n      <td>GA</td>\n      <td>&lt; 1 year</td>\n      <td>1.0</td>\n    </tr>\n    <tr>\n      <td>2</td>\n      <td>2400.0</td>\n      <td>2011-12-01</td>\n      <td>8.72</td>\n      <td>IL</td>\n      <td>10+ years</td>\n      <td>1.0</td>\n    </tr>\n  </tbody>\n</table>\n</div>"
     },
     "metadata": {},
     "output_type": "execute_result",
     "execution_count": 25
    }
   ],
   "source": [
    "#Making sure these are floats and not strings\n",
    "\n",
    "accept_data['Debt-To-Income Ratio'] = accept_data['Debt-To-Income Ratio'].apply(lambda x: float(x))\n",
    "accept_data.head(3)"
   ],
   "metadata": {
    "collapsed": false,
    "pycharm": {
     "name": "#%%\n",
     "is_executing": false
    }
   }
  },
  {
   "cell_type": "code",
   "execution_count": 26,
   "outputs": [
    {
     "data": {
      "text/plain": "   Amount Requested Application Date  Debt-To-Income Ratio  Policy Code  AL  \\\n0            5000.0       2011-12-01                 27.65          1.0   0   \n1            2500.0       2011-12-01                  1.00          1.0   0   \n2            2400.0       2011-12-01                  8.72          1.0   0   \n3           10000.0       2011-12-01                 20.00          1.0   0   \n4            3000.0       2011-12-01                 17.94          1.0   0   \n\n   AR  AZ  CA  CO  CT  ...  10+ years  2 years  3 years  4 years  5 years  \\\n0   0   1   0   0   0  ...          1        0        0        0        0   \n1   0   0   0   0   0  ...          0        0        0        0        0   \n2   0   0   0   0   0  ...          1        0        0        0        0   \n3   0   0   1   0   0  ...          1        0        0        0        0   \n4   0   0   0   0   0  ...          0        0        0        0        0   \n\n   6 years  7 years  8 years  9 years  < 1 year  \n0        0        0        0        0         0  \n1        0        0        0        0         1  \n2        0        0        0        0         0  \n3        0        0        0        0         0  \n4        0        0        0        0         0  \n\n[5 rows x 63 columns]",
      "text/html": "<div>\n<style scoped>\n    .dataframe tbody tr th:only-of-type {\n        vertical-align: middle;\n    }\n\n    .dataframe tbody tr th {\n        vertical-align: top;\n    }\n\n    .dataframe thead th {\n        text-align: right;\n    }\n</style>\n<table border=\"1\" class=\"dataframe\">\n  <thead>\n    <tr style=\"text-align: right;\">\n      <th></th>\n      <th>Amount Requested</th>\n      <th>Application Date</th>\n      <th>Debt-To-Income Ratio</th>\n      <th>Policy Code</th>\n      <th>AL</th>\n      <th>AR</th>\n      <th>AZ</th>\n      <th>CA</th>\n      <th>CO</th>\n      <th>CT</th>\n      <th>...</th>\n      <th>10+ years</th>\n      <th>2 years</th>\n      <th>3 years</th>\n      <th>4 years</th>\n      <th>5 years</th>\n      <th>6 years</th>\n      <th>7 years</th>\n      <th>8 years</th>\n      <th>9 years</th>\n      <th>&lt; 1 year</th>\n    </tr>\n  </thead>\n  <tbody>\n    <tr>\n      <td>0</td>\n      <td>5000.0</td>\n      <td>2011-12-01</td>\n      <td>27.65</td>\n      <td>1.0</td>\n      <td>0</td>\n      <td>0</td>\n      <td>1</td>\n      <td>0</td>\n      <td>0</td>\n      <td>0</td>\n      <td>...</td>\n      <td>1</td>\n      <td>0</td>\n      <td>0</td>\n      <td>0</td>\n      <td>0</td>\n      <td>0</td>\n      <td>0</td>\n      <td>0</td>\n      <td>0</td>\n      <td>0</td>\n    </tr>\n    <tr>\n      <td>1</td>\n      <td>2500.0</td>\n      <td>2011-12-01</td>\n      <td>1.00</td>\n      <td>1.0</td>\n      <td>0</td>\n      <td>0</td>\n      <td>0</td>\n      <td>0</td>\n      <td>0</td>\n      <td>0</td>\n      <td>...</td>\n      <td>0</td>\n      <td>0</td>\n      <td>0</td>\n      <td>0</td>\n      <td>0</td>\n      <td>0</td>\n      <td>0</td>\n      <td>0</td>\n      <td>0</td>\n      <td>1</td>\n    </tr>\n    <tr>\n      <td>2</td>\n      <td>2400.0</td>\n      <td>2011-12-01</td>\n      <td>8.72</td>\n      <td>1.0</td>\n      <td>0</td>\n      <td>0</td>\n      <td>0</td>\n      <td>0</td>\n      <td>0</td>\n      <td>0</td>\n      <td>...</td>\n      <td>1</td>\n      <td>0</td>\n      <td>0</td>\n      <td>0</td>\n      <td>0</td>\n      <td>0</td>\n      <td>0</td>\n      <td>0</td>\n      <td>0</td>\n      <td>0</td>\n    </tr>\n    <tr>\n      <td>3</td>\n      <td>10000.0</td>\n      <td>2011-12-01</td>\n      <td>20.00</td>\n      <td>1.0</td>\n      <td>0</td>\n      <td>0</td>\n      <td>0</td>\n      <td>1</td>\n      <td>0</td>\n      <td>0</td>\n      <td>...</td>\n      <td>1</td>\n      <td>0</td>\n      <td>0</td>\n      <td>0</td>\n      <td>0</td>\n      <td>0</td>\n      <td>0</td>\n      <td>0</td>\n      <td>0</td>\n      <td>0</td>\n    </tr>\n    <tr>\n      <td>4</td>\n      <td>3000.0</td>\n      <td>2011-12-01</td>\n      <td>17.94</td>\n      <td>1.0</td>\n      <td>0</td>\n      <td>0</td>\n      <td>0</td>\n      <td>0</td>\n      <td>0</td>\n      <td>0</td>\n      <td>...</td>\n      <td>0</td>\n      <td>0</td>\n      <td>0</td>\n      <td>0</td>\n      <td>0</td>\n      <td>0</td>\n      <td>0</td>\n      <td>0</td>\n      <td>0</td>\n      <td>0</td>\n    </tr>\n  </tbody>\n</table>\n<p>5 rows × 63 columns</p>\n</div>"
     },
     "metadata": {},
     "output_type": "execute_result",
     "execution_count": 26
    }
   ],
   "source": [
    "#I get dummies for the categorical variables states and employment duration \n",
    "#and add them to the data frames\n",
    "\n",
    "states_a = pd.get_dummies(accept_data['State'], drop_first=True)\n",
    "employment_length_a = pd.get_dummies(accept_data['Employment Length'], drop_first=True)\n",
    "accept_data.drop(['State', 'Employment Length'], axis=1, inplace=True)\n",
    "accept_data = pd.concat([accept_data, states_a, employment_length_a], axis=1)\n",
    "accept_data.head()"
   ],
   "metadata": {
    "collapsed": false,
    "pycharm": {
     "name": "#%%\n",
     "is_executing": false
    }
   }
  },
  {
   "cell_type": "code",
   "execution_count": 27,
   "outputs": [
    {
     "data": {
      "text/plain": "   Amount Requested Application Date  Debt-To-Income Ratio  Policy Code  AL  \\\n0            1000.0       2007-05-26                 10.00            0   0   \n1            1000.0       2007-05-26                 10.00            0   0   \n2           11000.0       2007-05-27                 10.00            0   0   \n3            6000.0       2007-05-27                 38.64            0   0   \n4            1500.0       2007-05-27                  9.43            0   0   \n\n   AR  AZ  CA  CO  CT  ...  10+ years  2 years  3 years  4 years  5 years  \\\n0   0   0   0   0   0  ...          0        0        0        1        0   \n1   0   0   0   0   0  ...          0        0        0        0        0   \n2   0   0   0   0   0  ...          0        0        0        0        0   \n3   0   0   0   0   0  ...          0        0        0        0        0   \n4   0   0   0   0   0  ...          0        0        0        0        0   \n\n   6 years  7 years  8 years  9 years  < 1 year  \n0        0        0        0        0         0  \n1        0        0        0        0         1  \n2        0        0        0        0         0  \n3        0        0        0        0         1  \n4        0        0        0        0         1  \n\n[5 rows x 64 columns]",
      "text/html": "<div>\n<style scoped>\n    .dataframe tbody tr th:only-of-type {\n        vertical-align: middle;\n    }\n\n    .dataframe tbody tr th {\n        vertical-align: top;\n    }\n\n    .dataframe thead th {\n        text-align: right;\n    }\n</style>\n<table border=\"1\" class=\"dataframe\">\n  <thead>\n    <tr style=\"text-align: right;\">\n      <th></th>\n      <th>Amount Requested</th>\n      <th>Application Date</th>\n      <th>Debt-To-Income Ratio</th>\n      <th>Policy Code</th>\n      <th>AL</th>\n      <th>AR</th>\n      <th>AZ</th>\n      <th>CA</th>\n      <th>CO</th>\n      <th>CT</th>\n      <th>...</th>\n      <th>10+ years</th>\n      <th>2 years</th>\n      <th>3 years</th>\n      <th>4 years</th>\n      <th>5 years</th>\n      <th>6 years</th>\n      <th>7 years</th>\n      <th>8 years</th>\n      <th>9 years</th>\n      <th>&lt; 1 year</th>\n    </tr>\n  </thead>\n  <tbody>\n    <tr>\n      <td>0</td>\n      <td>1000.0</td>\n      <td>2007-05-26</td>\n      <td>10.00</td>\n      <td>0</td>\n      <td>0</td>\n      <td>0</td>\n      <td>0</td>\n      <td>0</td>\n      <td>0</td>\n      <td>0</td>\n      <td>...</td>\n      <td>0</td>\n      <td>0</td>\n      <td>0</td>\n      <td>1</td>\n      <td>0</td>\n      <td>0</td>\n      <td>0</td>\n      <td>0</td>\n      <td>0</td>\n      <td>0</td>\n    </tr>\n    <tr>\n      <td>1</td>\n      <td>1000.0</td>\n      <td>2007-05-26</td>\n      <td>10.00</td>\n      <td>0</td>\n      <td>0</td>\n      <td>0</td>\n      <td>0</td>\n      <td>0</td>\n      <td>0</td>\n      <td>0</td>\n      <td>...</td>\n      <td>0</td>\n      <td>0</td>\n      <td>0</td>\n      <td>0</td>\n      <td>0</td>\n      <td>0</td>\n      <td>0</td>\n      <td>0</td>\n      <td>0</td>\n      <td>1</td>\n    </tr>\n    <tr>\n      <td>2</td>\n      <td>11000.0</td>\n      <td>2007-05-27</td>\n      <td>10.00</td>\n      <td>0</td>\n      <td>0</td>\n      <td>0</td>\n      <td>0</td>\n      <td>0</td>\n      <td>0</td>\n      <td>0</td>\n      <td>...</td>\n      <td>0</td>\n      <td>0</td>\n      <td>0</td>\n      <td>0</td>\n      <td>0</td>\n      <td>0</td>\n      <td>0</td>\n      <td>0</td>\n      <td>0</td>\n      <td>0</td>\n    </tr>\n    <tr>\n      <td>3</td>\n      <td>6000.0</td>\n      <td>2007-05-27</td>\n      <td>38.64</td>\n      <td>0</td>\n      <td>0</td>\n      <td>0</td>\n      <td>0</td>\n      <td>0</td>\n      <td>0</td>\n      <td>0</td>\n      <td>...</td>\n      <td>0</td>\n      <td>0</td>\n      <td>0</td>\n      <td>0</td>\n      <td>0</td>\n      <td>0</td>\n      <td>0</td>\n      <td>0</td>\n      <td>0</td>\n      <td>1</td>\n    </tr>\n    <tr>\n      <td>4</td>\n      <td>1500.0</td>\n      <td>2007-05-27</td>\n      <td>9.43</td>\n      <td>0</td>\n      <td>0</td>\n      <td>0</td>\n      <td>0</td>\n      <td>0</td>\n      <td>0</td>\n      <td>0</td>\n      <td>...</td>\n      <td>0</td>\n      <td>0</td>\n      <td>0</td>\n      <td>0</td>\n      <td>0</td>\n      <td>0</td>\n      <td>0</td>\n      <td>0</td>\n      <td>0</td>\n      <td>1</td>\n    </tr>\n  </tbody>\n</table>\n<p>5 rows × 64 columns</p>\n</div>"
     },
     "metadata": {},
     "output_type": "execute_result",
     "execution_count": 27
    }
   ],
   "source": [
    "states_r = pd.get_dummies(reject_data['State'], drop_first=True)\n",
    "employment_length_r = pd.get_dummies(reject_data['Employment Length'], drop_first=True)\n",
    "reject_data.drop(['State', 'Employment Length'], axis=1, inplace=True)\n",
    "reject_data = pd.concat([reject_data, states_r, employment_length_r], axis=1)\n",
    "reject_data.head()"
   ],
   "metadata": {
    "collapsed": false,
    "pycharm": {
     "name": "#%%\n",
     "is_executing": false
    }
   }
  },
  {
   "cell_type": "code",
   "execution_count": 28,
   "outputs": [
    {
     "name": "stdout",
     "text": [
      "<class 'pandas.core.frame.DataFrame'>\nIndex: 41423 entries, 0 to 42535\nData columns (total 63 columns):\nAmount Requested        41423 non-null float64\nApplication Date        41423 non-null datetime64[ns]\nDebt-To-Income Ratio    41423 non-null float64\nPolicy Code             41423 non-null float64\nAL                      41423 non-null uint8\nAR                      41423 non-null uint8\nAZ                      41423 non-null uint8\nCA                      41423 non-null uint8\nCO                      41423 non-null uint8\nCT                      41423 non-null uint8\nDC                      41423 non-null uint8\nDE                      41423 non-null uint8\nFL                      41423 non-null uint8\nGA                      41423 non-null uint8\nHI                      41423 non-null uint8\nIA                      41423 non-null uint8\nID                      41423 non-null uint8\nIL                      41423 non-null uint8\nIN                      41423 non-null uint8\nKS                      41423 non-null uint8\nKY                      41423 non-null uint8\nLA                      41423 non-null uint8\nMA                      41423 non-null uint8\nMD                      41423 non-null uint8\nME                      41423 non-null uint8\nMI                      41423 non-null uint8\nMN                      41423 non-null uint8\nMO                      41423 non-null uint8\nMS                      41423 non-null uint8\nMT                      41423 non-null uint8\nNC                      41423 non-null uint8\nNE                      41423 non-null uint8\nNH                      41423 non-null uint8\nNJ                      41423 non-null uint8\nNM                      41423 non-null uint8\nNV                      41423 non-null uint8\nNY                      41423 non-null uint8\nOH                      41423 non-null uint8\nOK                      41423 non-null uint8\nOR                      41423 non-null uint8\nPA                      41423 non-null uint8\nRI                      41423 non-null uint8\nSC                      41423 non-null uint8\nSD                      41423 non-null uint8\nTN                      41423 non-null uint8\nTX                      41423 non-null uint8\nUT                      41423 non-null uint8\nVA                      41423 non-null uint8\nVT                      41423 non-null uint8\nWA                      41423 non-null uint8\nWI                      41423 non-null uint8\nWV                      41423 non-null uint8\nWY                      41423 non-null uint8\n10+ years               41423 non-null uint8\n2 years                 41423 non-null uint8\n3 years                 41423 non-null uint8\n4 years                 41423 non-null uint8\n5 years                 41423 non-null uint8\n6 years                 41423 non-null uint8\n7 years                 41423 non-null uint8\n8 years                 41423 non-null uint8\n9 years                 41423 non-null uint8\n< 1 year                41423 non-null uint8\ndtypes: datetime64[ns](1), float64(3), uint8(59)\nmemory usage: 3.9+ MB\n"
     ],
     "output_type": "stream"
    }
   ],
   "source": [
    "accept_data.info()"
   ],
   "metadata": {
    "collapsed": false,
    "pycharm": {
     "name": "#%%\n",
     "is_executing": false
    }
   }
  },
  {
   "cell_type": "code",
   "execution_count": 29,
   "outputs": [
    {
     "name": "stdout",
     "text": [
      "<class 'pandas.core.frame.DataFrame'>\nInt64Index: 747340 entries, 0 to 755490\nData columns (total 64 columns):\nAmount Requested        747340 non-null float64\nApplication Date        747340 non-null datetime64[ns]\nDebt-To-Income Ratio    747340 non-null float64\nPolicy Code             747340 non-null int64\nAL                      747340 non-null uint8\nAR                      747340 non-null uint8\nAZ                      747340 non-null uint8\nCA                      747340 non-null uint8\nCO                      747340 non-null uint8\nCT                      747340 non-null uint8\nDC                      747340 non-null uint8\nDE                      747340 non-null uint8\nFL                      747340 non-null uint8\nGA                      747340 non-null uint8\nHI                      747340 non-null uint8\nIA                      747340 non-null uint8\nID                      747340 non-null uint8\nIL                      747340 non-null uint8\nIN                      747340 non-null uint8\nKS                      747340 non-null uint8\nKY                      747340 non-null uint8\nLA                      747340 non-null uint8\nMA                      747340 non-null uint8\nMD                      747340 non-null uint8\nME                      747340 non-null uint8\nMI                      747340 non-null uint8\nMN                      747340 non-null uint8\nMO                      747340 non-null uint8\nMS                      747340 non-null uint8\nMT                      747340 non-null uint8\nNC                      747340 non-null uint8\nND                      747340 non-null uint8\nNE                      747340 non-null uint8\nNH                      747340 non-null uint8\nNJ                      747340 non-null uint8\nNM                      747340 non-null uint8\nNV                      747340 non-null uint8\nNY                      747340 non-null uint8\nOH                      747340 non-null uint8\nOK                      747340 non-null uint8\nOR                      747340 non-null uint8\nPA                      747340 non-null uint8\nRI                      747340 non-null uint8\nSC                      747340 non-null uint8\nSD                      747340 non-null uint8\nTN                      747340 non-null uint8\nTX                      747340 non-null uint8\nUT                      747340 non-null uint8\nVA                      747340 non-null uint8\nVT                      747340 non-null uint8\nWA                      747340 non-null uint8\nWI                      747340 non-null uint8\nWV                      747340 non-null uint8\nWY                      747340 non-null uint8\n10+ years               747340 non-null uint8\n2 years                 747340 non-null uint8\n3 years                 747340 non-null uint8\n4 years                 747340 non-null uint8\n5 years                 747340 non-null uint8\n6 years                 747340 non-null uint8\n7 years                 747340 non-null uint8\n8 years                 747340 non-null uint8\n9 years                 747340 non-null uint8\n< 1 year                747340 non-null uint8\ndtypes: datetime64[ns](1), float64(2), int64(1), uint8(60)\nmemory usage: 71.3 MB\n"
     ],
     "output_type": "stream"
    }
   ],
   "source": [
    "reject_data.info()"
   ],
   "metadata": {
    "collapsed": false,
    "pycharm": {
     "name": "#%%\n",
     "is_executing": false
    }
   }
  },
  {
   "cell_type": "code",
   "execution_count": 30,
   "outputs": [
    {
     "name": "stdout",
     "text": [
      "<class 'pandas.core.frame.DataFrame'>\nIndex: 41423 entries, 0 to 42535\nData columns (total 64 columns):\nAmount Requested        41423 non-null float64\nApplication Date        41423 non-null datetime64[ns]\nDebt-To-Income Ratio    41423 non-null float64\nPolicy Code             41423 non-null float64\nAL                      41423 non-null uint8\nAR                      41423 non-null uint8\nAZ                      41423 non-null uint8\nCA                      41423 non-null uint8\nCO                      41423 non-null uint8\nCT                      41423 non-null uint8\nDC                      41423 non-null uint8\nDE                      41423 non-null uint8\nFL                      41423 non-null uint8\nGA                      41423 non-null uint8\nHI                      41423 non-null uint8\nIA                      41423 non-null uint8\nID                      41423 non-null uint8\nIL                      41423 non-null uint8\nIN                      41423 non-null uint8\nKS                      41423 non-null uint8\nKY                      41423 non-null uint8\nLA                      41423 non-null uint8\nMA                      41423 non-null uint8\nMD                      41423 non-null uint8\nME                      41423 non-null uint8\nMI                      41423 non-null uint8\nMN                      41423 non-null uint8\nMO                      41423 non-null uint8\nMS                      41423 non-null uint8\nMT                      41423 non-null uint8\nNC                      41423 non-null uint8\nND                      41423 non-null int64\nNE                      41423 non-null uint8\nNH                      41423 non-null uint8\nNJ                      41423 non-null uint8\nNM                      41423 non-null uint8\nNV                      41423 non-null uint8\nNY                      41423 non-null uint8\nOH                      41423 non-null uint8\nOK                      41423 non-null uint8\nOR                      41423 non-null uint8\nPA                      41423 non-null uint8\nRI                      41423 non-null uint8\nSC                      41423 non-null uint8\nSD                      41423 non-null uint8\nTN                      41423 non-null uint8\nTX                      41423 non-null uint8\nUT                      41423 non-null uint8\nVA                      41423 non-null uint8\nVT                      41423 non-null uint8\nWA                      41423 non-null uint8\nWI                      41423 non-null uint8\nWV                      41423 non-null uint8\nWY                      41423 non-null uint8\n10+ years               41423 non-null uint8\n2 years                 41423 non-null uint8\n3 years                 41423 non-null uint8\n4 years                 41423 non-null uint8\n5 years                 41423 non-null uint8\n6 years                 41423 non-null uint8\n7 years                 41423 non-null uint8\n8 years                 41423 non-null uint8\n9 years                 41423 non-null uint8\n< 1 year                41423 non-null uint8\ndtypes: datetime64[ns](1), float64(3), int64(1), uint8(59)\nmemory usage: 4.2+ MB\n"
     ],
     "output_type": "stream"
    }
   ],
   "source": [
    "#I realized the accept data doesn't have any incidents of the state ND.\n",
    "#I add it as a column of zeros\n",
    "\n",
    "a=[0]*len(accept_data)\n",
    "accept_data.insert(31, \"ND\", a, True)\n",
    "accept_data.info()"
   ],
   "metadata": {
    "collapsed": false,
    "pycharm": {
     "name": "#%%\n",
     "is_executing": false
    }
   }
  },
  {
   "cell_type": "code",
   "execution_count": 31,
   "outputs": [
    {
     "data": {
      "text/plain": "   Amount Requested  Application Date  Debt-To-Income Ratio  Policy Code  AL  \\\n0            5000.0        1322697600                 27.65          1.0   0   \n1            2500.0        1322697600                  1.00          1.0   0   \n2            2400.0        1322697600                  8.72          1.0   0   \n\n   AR  AZ  CA  CO  CT  ...  10+ years  2 years  3 years  4 years  5 years  \\\n0   0   1   0   0   0  ...          1        0        0        0        0   \n1   0   0   0   0   0  ...          0        0        0        0        0   \n2   0   0   0   0   0  ...          1        0        0        0        0   \n\n   6 years  7 years  8 years  9 years  < 1 year  \n0        0        0        0        0         0  \n1        0        0        0        0         1  \n2        0        0        0        0         0  \n\n[3 rows x 64 columns]",
      "text/html": "<div>\n<style scoped>\n    .dataframe tbody tr th:only-of-type {\n        vertical-align: middle;\n    }\n\n    .dataframe tbody tr th {\n        vertical-align: top;\n    }\n\n    .dataframe thead th {\n        text-align: right;\n    }\n</style>\n<table border=\"1\" class=\"dataframe\">\n  <thead>\n    <tr style=\"text-align: right;\">\n      <th></th>\n      <th>Amount Requested</th>\n      <th>Application Date</th>\n      <th>Debt-To-Income Ratio</th>\n      <th>Policy Code</th>\n      <th>AL</th>\n      <th>AR</th>\n      <th>AZ</th>\n      <th>CA</th>\n      <th>CO</th>\n      <th>CT</th>\n      <th>...</th>\n      <th>10+ years</th>\n      <th>2 years</th>\n      <th>3 years</th>\n      <th>4 years</th>\n      <th>5 years</th>\n      <th>6 years</th>\n      <th>7 years</th>\n      <th>8 years</th>\n      <th>9 years</th>\n      <th>&lt; 1 year</th>\n    </tr>\n  </thead>\n  <tbody>\n    <tr>\n      <td>0</td>\n      <td>5000.0</td>\n      <td>1322697600</td>\n      <td>27.65</td>\n      <td>1.0</td>\n      <td>0</td>\n      <td>0</td>\n      <td>1</td>\n      <td>0</td>\n      <td>0</td>\n      <td>0</td>\n      <td>...</td>\n      <td>1</td>\n      <td>0</td>\n      <td>0</td>\n      <td>0</td>\n      <td>0</td>\n      <td>0</td>\n      <td>0</td>\n      <td>0</td>\n      <td>0</td>\n      <td>0</td>\n    </tr>\n    <tr>\n      <td>1</td>\n      <td>2500.0</td>\n      <td>1322697600</td>\n      <td>1.00</td>\n      <td>1.0</td>\n      <td>0</td>\n      <td>0</td>\n      <td>0</td>\n      <td>0</td>\n      <td>0</td>\n      <td>0</td>\n      <td>...</td>\n      <td>0</td>\n      <td>0</td>\n      <td>0</td>\n      <td>0</td>\n      <td>0</td>\n      <td>0</td>\n      <td>0</td>\n      <td>0</td>\n      <td>0</td>\n      <td>1</td>\n    </tr>\n    <tr>\n      <td>2</td>\n      <td>2400.0</td>\n      <td>1322697600</td>\n      <td>8.72</td>\n      <td>1.0</td>\n      <td>0</td>\n      <td>0</td>\n      <td>0</td>\n      <td>0</td>\n      <td>0</td>\n      <td>0</td>\n      <td>...</td>\n      <td>1</td>\n      <td>0</td>\n      <td>0</td>\n      <td>0</td>\n      <td>0</td>\n      <td>0</td>\n      <td>0</td>\n      <td>0</td>\n      <td>0</td>\n      <td>0</td>\n    </tr>\n  </tbody>\n</table>\n<p>3 rows × 64 columns</p>\n</div>"
     },
     "metadata": {},
     "output_type": "execute_result",
     "execution_count": 31
    }
   ],
   "source": [
    "#Turning the dates into timestamps so that the algorithm can understand them\n",
    "\n",
    "accept_data['Application Date'] = list(map(lambda x: int(round(x.timestamp())), accept_data['Application Date']))\n",
    "reject_data['Application Date'] = list(map(lambda x: int(round(x.timestamp())), reject_data['Application Date']))\n",
    "accept_data.head(3)"
   ],
   "metadata": {
    "collapsed": false,
    "pycharm": {
     "name": "#%%\n",
     "is_executing": false
    }
   }
  },
  {
   "cell_type": "code",
   "execution_count": 32,
   "outputs": [
    {
     "name": "stdout",
     "text": [
      "<class 'pandas.core.frame.DataFrame'>\nRangeIndex: 788763 entries, 0 to 788762\nData columns (total 63 columns):\nAmount Requested        788763 non-null float64\nApplication Date        788763 non-null int64\nDebt-To-Income Ratio    788763 non-null float64\nAL                      788763 non-null uint8\nAR                      788763 non-null uint8\nAZ                      788763 non-null uint8\nCA                      788763 non-null uint8\nCO                      788763 non-null uint8\nCT                      788763 non-null uint8\nDC                      788763 non-null uint8\nDE                      788763 non-null uint8\nFL                      788763 non-null uint8\nGA                      788763 non-null uint8\nHI                      788763 non-null uint8\nIA                      788763 non-null uint8\nID                      788763 non-null uint8\nIL                      788763 non-null uint8\nIN                      788763 non-null uint8\nKS                      788763 non-null uint8\nKY                      788763 non-null uint8\nLA                      788763 non-null uint8\nMA                      788763 non-null uint8\nMD                      788763 non-null uint8\nME                      788763 non-null uint8\nMI                      788763 non-null uint8\nMN                      788763 non-null uint8\nMO                      788763 non-null uint8\nMS                      788763 non-null uint8\nMT                      788763 non-null uint8\nNC                      788763 non-null uint8\nND                      788763 non-null int64\nNE                      788763 non-null uint8\nNH                      788763 non-null uint8\nNJ                      788763 non-null uint8\nNM                      788763 non-null uint8\nNV                      788763 non-null uint8\nNY                      788763 non-null uint8\nOH                      788763 non-null uint8\nOK                      788763 non-null uint8\nOR                      788763 non-null uint8\nPA                      788763 non-null uint8\nRI                      788763 non-null uint8\nSC                      788763 non-null uint8\nSD                      788763 non-null uint8\nTN                      788763 non-null uint8\nTX                      788763 non-null uint8\nUT                      788763 non-null uint8\nVA                      788763 non-null uint8\nVT                      788763 non-null uint8\nWA                      788763 non-null uint8\nWI                      788763 non-null uint8\nWV                      788763 non-null uint8\nWY                      788763 non-null uint8\n10+ years               788763 non-null uint8\n2 years                 788763 non-null uint8\n3 years                 788763 non-null uint8\n4 years                 788763 non-null uint8\n5 years                 788763 non-null uint8\n6 years                 788763 non-null uint8\n7 years                 788763 non-null uint8\n8 years                 788763 non-null uint8\n9 years                 788763 non-null uint8\n< 1 year                788763 non-null uint8\ndtypes: float64(2), int64(2), uint8(59)\nmemory usage: 68.5 MB\n"
     ],
     "output_type": "stream"
    }
   ],
   "source": [
    "#Adding the two tables together\n",
    "\n",
    "final_dataset = pd.concat([accept_data, reject_data], ignore_index=True)\n",
    "target = final_dataset['Policy Code']\n",
    "final_dataset = final_dataset.drop(['Policy Code'], axis=1)\n",
    "final_dataset.info()"
   ],
   "metadata": {
    "collapsed": false,
    "pycharm": {
     "name": "#%%\n",
     "is_executing": false
    }
   }
  },
  {
   "cell_type": "code",
   "execution_count": 33,
   "outputs": [
    {
     "data": {
      "text/plain": "   Amount Requested  Application Date  Debt-To-Income Ratio  AL  AR  AZ  CA  \\\n0            5000.0        1322697600                 27.65   0   0   1   0   \n1            2500.0        1322697600                  1.00   0   0   0   0   \n2            2400.0        1322697600                  8.72   0   0   0   0   \n3           10000.0        1322697600                 20.00   0   0   0   1   \n4            3000.0        1322697600                 17.94   0   0   0   0   \n\n   CO  CT  DC  ...  10+ years  2 years  3 years  4 years  5 years  6 years  \\\n0   0   0   0  ...          1        0        0        0        0        0   \n1   0   0   0  ...          0        0        0        0        0        0   \n2   0   0   0  ...          1        0        0        0        0        0   \n3   0   0   0  ...          1        0        0        0        0        0   \n4   0   0   0  ...          0        0        0        0        0        0   \n\n   7 years  8 years  9 years  < 1 year  \n0        0        0        0         0  \n1        0        0        0         1  \n2        0        0        0         0  \n3        0        0        0         0  \n4        0        0        0         0  \n\n[5 rows x 63 columns]",
      "text/html": "<div>\n<style scoped>\n    .dataframe tbody tr th:only-of-type {\n        vertical-align: middle;\n    }\n\n    .dataframe tbody tr th {\n        vertical-align: top;\n    }\n\n    .dataframe thead th {\n        text-align: right;\n    }\n</style>\n<table border=\"1\" class=\"dataframe\">\n  <thead>\n    <tr style=\"text-align: right;\">\n      <th></th>\n      <th>Amount Requested</th>\n      <th>Application Date</th>\n      <th>Debt-To-Income Ratio</th>\n      <th>AL</th>\n      <th>AR</th>\n      <th>AZ</th>\n      <th>CA</th>\n      <th>CO</th>\n      <th>CT</th>\n      <th>DC</th>\n      <th>...</th>\n      <th>10+ years</th>\n      <th>2 years</th>\n      <th>3 years</th>\n      <th>4 years</th>\n      <th>5 years</th>\n      <th>6 years</th>\n      <th>7 years</th>\n      <th>8 years</th>\n      <th>9 years</th>\n      <th>&lt; 1 year</th>\n    </tr>\n  </thead>\n  <tbody>\n    <tr>\n      <td>0</td>\n      <td>5000.0</td>\n      <td>1322697600</td>\n      <td>27.65</td>\n      <td>0</td>\n      <td>0</td>\n      <td>1</td>\n      <td>0</td>\n      <td>0</td>\n      <td>0</td>\n      <td>0</td>\n      <td>...</td>\n      <td>1</td>\n      <td>0</td>\n      <td>0</td>\n      <td>0</td>\n      <td>0</td>\n      <td>0</td>\n      <td>0</td>\n      <td>0</td>\n      <td>0</td>\n      <td>0</td>\n    </tr>\n    <tr>\n      <td>1</td>\n      <td>2500.0</td>\n      <td>1322697600</td>\n      <td>1.00</td>\n      <td>0</td>\n      <td>0</td>\n      <td>0</td>\n      <td>0</td>\n      <td>0</td>\n      <td>0</td>\n      <td>0</td>\n      <td>...</td>\n      <td>0</td>\n      <td>0</td>\n      <td>0</td>\n      <td>0</td>\n      <td>0</td>\n      <td>0</td>\n      <td>0</td>\n      <td>0</td>\n      <td>0</td>\n      <td>1</td>\n    </tr>\n    <tr>\n      <td>2</td>\n      <td>2400.0</td>\n      <td>1322697600</td>\n      <td>8.72</td>\n      <td>0</td>\n      <td>0</td>\n      <td>0</td>\n      <td>0</td>\n      <td>0</td>\n      <td>0</td>\n      <td>0</td>\n      <td>...</td>\n      <td>1</td>\n      <td>0</td>\n      <td>0</td>\n      <td>0</td>\n      <td>0</td>\n      <td>0</td>\n      <td>0</td>\n      <td>0</td>\n      <td>0</td>\n      <td>0</td>\n    </tr>\n    <tr>\n      <td>3</td>\n      <td>10000.0</td>\n      <td>1322697600</td>\n      <td>20.00</td>\n      <td>0</td>\n      <td>0</td>\n      <td>0</td>\n      <td>1</td>\n      <td>0</td>\n      <td>0</td>\n      <td>0</td>\n      <td>...</td>\n      <td>1</td>\n      <td>0</td>\n      <td>0</td>\n      <td>0</td>\n      <td>0</td>\n      <td>0</td>\n      <td>0</td>\n      <td>0</td>\n      <td>0</td>\n      <td>0</td>\n    </tr>\n    <tr>\n      <td>4</td>\n      <td>3000.0</td>\n      <td>1322697600</td>\n      <td>17.94</td>\n      <td>0</td>\n      <td>0</td>\n      <td>0</td>\n      <td>0</td>\n      <td>0</td>\n      <td>0</td>\n      <td>0</td>\n      <td>...</td>\n      <td>0</td>\n      <td>0</td>\n      <td>0</td>\n      <td>0</td>\n      <td>0</td>\n      <td>0</td>\n      <td>0</td>\n      <td>0</td>\n      <td>0</td>\n      <td>0</td>\n    </tr>\n  </tbody>\n</table>\n<p>5 rows × 63 columns</p>\n</div>"
     },
     "metadata": {},
     "output_type": "execute_result",
     "execution_count": 33
    }
   ],
   "source": [
    "final_dataset.head()"
   ],
   "metadata": {
    "collapsed": false,
    "pycharm": {
     "name": "#%%\n",
     "is_executing": false
    }
   }
  },
  {
   "cell_type": "code",
   "execution_count": 34,
   "outputs": [
    {
     "data": {
      "text/plain": "0    1.0\n1    1.0\n2    1.0\n3    1.0\n4    1.0\nName: Policy Code, dtype: float64"
     },
     "metadata": {},
     "output_type": "execute_result",
     "execution_count": 34
    }
   ],
   "source": [
    "target.head()"
   ],
   "metadata": {
    "collapsed": false,
    "pycharm": {
     "name": "#%%\n",
     "is_executing": false
    }
   }
  },
  {
   "cell_type": "code",
   "execution_count": 39,
   "outputs": [
    {
     "data": {
      "text/plain": "'from sklearn.preprocessing import StandardScaler\\n\\nscaler = StandardScaler()\\nfinal_dataset = scaler.fit_transform(final_dataset)\\nfinal_dataset.info()'"
     },
     "metadata": {},
     "output_type": "execute_result",
     "execution_count": 39
    }
   ],
   "source": [
    "#I was going to use this but then I decided I would write my own function\n",
    "'''from sklearn.preprocessing import StandardScaler\n",
    "\n",
    "scaler = StandardScaler()\n",
    "final_dataset = scaler.fit_transform(final_dataset)\n",
    "final_dataset.info()'''"
   ],
   "metadata": {
    "collapsed": false,
    "pycharm": {
     "name": "#%%\n",
     "is_executing": false
    }
   }
  },
  {
   "cell_type": "code",
   "execution_count": 35,
   "outputs": [],
   "source": [
    "#I save the means and the stds. I'll need these later\n",
    "\n",
    "m = final_dataset.mean()\n",
    "sd = final_dataset.std()"
   ],
   "metadata": {
    "collapsed": false,
    "pycharm": {
     "name": "#%%\n",
     "is_executing": false
    }
   }
  },
  {
   "cell_type": "code",
   "execution_count": 36,
   "outputs": [],
   "source": [
    "#I define a function that does standardization\n",
    "\n",
    "def standardize(A):\n",
    "    m = A.mean()\n",
    "    sd = A.std()\n",
    "    \n",
    "    return (A-m)/sd"
   ],
   "metadata": {
    "collapsed": false,
    "pycharm": {
     "name": "#%%\n",
     "is_executing": false
    }
   }
  },
  {
   "cell_type": "code",
   "execution_count": 37,
   "outputs": [],
   "source": [
    "#I standardize the whole dataset\n",
    "\n",
    "final_dataset = standardize(final_dataset)"
   ],
   "metadata": {
    "collapsed": false,
    "pycharm": {
     "name": "#%%\n",
     "is_executing": false
    }
   }
  },
  {
   "cell_type": "code",
   "execution_count": 38,
   "outputs": [
    {
     "data": {
      "text/plain": "   Amount Requested  Application Date  Debt-To-Income Ratio       AL  \\\n0         -0.741343          0.325748             -0.014638 -0.13194   \n1         -0.978313          0.325748             -0.015091 -0.13194   \n2         -0.987792          0.325748             -0.014960 -0.13194   \n3         -0.267401          0.325748             -0.014768 -0.13194   \n4         -0.930919          0.325748             -0.014803 -0.13194   \n\n         AR        AZ        CA        CO        CT        DC  ...  10+ years  \\\n0 -0.110748  6.744886 -0.393401 -0.134606 -0.128451 -0.051803  ...   3.941867   \n1 -0.110748 -0.148260 -0.393401 -0.134606 -0.128451 -0.051803  ...  -0.253687   \n2 -0.110748 -0.148260 -0.393401 -0.134606 -0.128451 -0.051803  ...   3.941867   \n3 -0.110748 -0.148260  2.541933 -0.134606 -0.128451 -0.051803  ...   3.941867   \n4 -0.110748 -0.148260 -0.393401 -0.134606 -0.128451 -0.051803  ...  -0.253687   \n\n    2 years   3 years  4 years   5 years   6 years   7 years   8 years  \\\n0 -0.201779 -0.180102 -0.15954 -0.153144 -0.132124 -0.113117 -0.107699   \n1 -0.201779 -0.180102 -0.15954 -0.153144 -0.132124 -0.113117 -0.107699   \n2 -0.201779 -0.180102 -0.15954 -0.153144 -0.132124 -0.113117 -0.107699   \n3 -0.201779 -0.180102 -0.15954 -0.153144 -0.132124 -0.113117 -0.107699   \n4 -0.201779 -0.180102 -0.15954 -0.153144 -0.132124 -0.113117 -0.107699   \n\n    9 years  < 1 year  \n0 -0.095048 -1.662130  \n1 -0.095048  0.601637  \n2 -0.095048 -1.662130  \n3 -0.095048 -1.662130  \n4 -0.095048 -1.662130  \n\n[5 rows x 63 columns]",
      "text/html": "<div>\n<style scoped>\n    .dataframe tbody tr th:only-of-type {\n        vertical-align: middle;\n    }\n\n    .dataframe tbody tr th {\n        vertical-align: top;\n    }\n\n    .dataframe thead th {\n        text-align: right;\n    }\n</style>\n<table border=\"1\" class=\"dataframe\">\n  <thead>\n    <tr style=\"text-align: right;\">\n      <th></th>\n      <th>Amount Requested</th>\n      <th>Application Date</th>\n      <th>Debt-To-Income Ratio</th>\n      <th>AL</th>\n      <th>AR</th>\n      <th>AZ</th>\n      <th>CA</th>\n      <th>CO</th>\n      <th>CT</th>\n      <th>DC</th>\n      <th>...</th>\n      <th>10+ years</th>\n      <th>2 years</th>\n      <th>3 years</th>\n      <th>4 years</th>\n      <th>5 years</th>\n      <th>6 years</th>\n      <th>7 years</th>\n      <th>8 years</th>\n      <th>9 years</th>\n      <th>&lt; 1 year</th>\n    </tr>\n  </thead>\n  <tbody>\n    <tr>\n      <td>0</td>\n      <td>-0.741343</td>\n      <td>0.325748</td>\n      <td>-0.014638</td>\n      <td>-0.13194</td>\n      <td>-0.110748</td>\n      <td>6.744886</td>\n      <td>-0.393401</td>\n      <td>-0.134606</td>\n      <td>-0.128451</td>\n      <td>-0.051803</td>\n      <td>...</td>\n      <td>3.941867</td>\n      <td>-0.201779</td>\n      <td>-0.180102</td>\n      <td>-0.15954</td>\n      <td>-0.153144</td>\n      <td>-0.132124</td>\n      <td>-0.113117</td>\n      <td>-0.107699</td>\n      <td>-0.095048</td>\n      <td>-1.662130</td>\n    </tr>\n    <tr>\n      <td>1</td>\n      <td>-0.978313</td>\n      <td>0.325748</td>\n      <td>-0.015091</td>\n      <td>-0.13194</td>\n      <td>-0.110748</td>\n      <td>-0.148260</td>\n      <td>-0.393401</td>\n      <td>-0.134606</td>\n      <td>-0.128451</td>\n      <td>-0.051803</td>\n      <td>...</td>\n      <td>-0.253687</td>\n      <td>-0.201779</td>\n      <td>-0.180102</td>\n      <td>-0.15954</td>\n      <td>-0.153144</td>\n      <td>-0.132124</td>\n      <td>-0.113117</td>\n      <td>-0.107699</td>\n      <td>-0.095048</td>\n      <td>0.601637</td>\n    </tr>\n    <tr>\n      <td>2</td>\n      <td>-0.987792</td>\n      <td>0.325748</td>\n      <td>-0.014960</td>\n      <td>-0.13194</td>\n      <td>-0.110748</td>\n      <td>-0.148260</td>\n      <td>-0.393401</td>\n      <td>-0.134606</td>\n      <td>-0.128451</td>\n      <td>-0.051803</td>\n      <td>...</td>\n      <td>3.941867</td>\n      <td>-0.201779</td>\n      <td>-0.180102</td>\n      <td>-0.15954</td>\n      <td>-0.153144</td>\n      <td>-0.132124</td>\n      <td>-0.113117</td>\n      <td>-0.107699</td>\n      <td>-0.095048</td>\n      <td>-1.662130</td>\n    </tr>\n    <tr>\n      <td>3</td>\n      <td>-0.267401</td>\n      <td>0.325748</td>\n      <td>-0.014768</td>\n      <td>-0.13194</td>\n      <td>-0.110748</td>\n      <td>-0.148260</td>\n      <td>2.541933</td>\n      <td>-0.134606</td>\n      <td>-0.128451</td>\n      <td>-0.051803</td>\n      <td>...</td>\n      <td>3.941867</td>\n      <td>-0.201779</td>\n      <td>-0.180102</td>\n      <td>-0.15954</td>\n      <td>-0.153144</td>\n      <td>-0.132124</td>\n      <td>-0.113117</td>\n      <td>-0.107699</td>\n      <td>-0.095048</td>\n      <td>-1.662130</td>\n    </tr>\n    <tr>\n      <td>4</td>\n      <td>-0.930919</td>\n      <td>0.325748</td>\n      <td>-0.014803</td>\n      <td>-0.13194</td>\n      <td>-0.110748</td>\n      <td>-0.148260</td>\n      <td>-0.393401</td>\n      <td>-0.134606</td>\n      <td>-0.128451</td>\n      <td>-0.051803</td>\n      <td>...</td>\n      <td>-0.253687</td>\n      <td>-0.201779</td>\n      <td>-0.180102</td>\n      <td>-0.15954</td>\n      <td>-0.153144</td>\n      <td>-0.132124</td>\n      <td>-0.113117</td>\n      <td>-0.107699</td>\n      <td>-0.095048</td>\n      <td>-1.662130</td>\n    </tr>\n  </tbody>\n</table>\n<p>5 rows × 63 columns</p>\n</div>"
     },
     "metadata": {},
     "output_type": "execute_result",
     "execution_count": 38
    }
   ],
   "source": [
    "final_dataset.head()"
   ],
   "metadata": {
    "collapsed": false,
    "pycharm": {
     "name": "#%%\n",
     "is_executing": false
    }
   }
  },
  {
   "cell_type": "code",
   "execution_count": 39,
   "outputs": [],
   "source": [
    "#Splitting into training and test data\n",
    "\n",
    "from sklearn.model_selection import train_test_split\n",
    "\n",
    "X_train, X_test, Y_train, Y_test = train_test_split(final_dataset, target, test_size=0.30)"
   ],
   "metadata": {
    "collapsed": false,
    "pycharm": {
     "name": "#%%\n",
     "is_executing": false
    }
   }
  },
  {
   "cell_type": "code",
   "execution_count": 40,
   "outputs": [],
   "source": [
    "#Importing the libraries for logistic regression and cross validation\n",
    "\n",
    "from sklearn.linear_model import LogisticRegression\n",
    "from sklearn.model_selection import cross_val_score\n"
   ],
   "metadata": {
    "collapsed": false,
    "pycharm": {
     "name": "#%%\n",
     "is_executing": false
    }
   }
  },
  {
   "cell_type": "code",
   "execution_count": null,
   "outputs": [],
   "source": [
    "#Cross validating for the C parameter of the logistic regression\n",
    "\n",
    "for i in range(1, 6):\n",
    "    c = float(i)\n",
    "    glm = LogisticRegression(C=c, solver='sag')\n",
    "    glm.fit(X_train, Y_train)\n",
    "    cv_scores = cross_val_score(glm, X_train, Y_train, cv=5)\n",
    "    print('for C = ' + str(i) + ', cross validation score = ' + str(np.mean(cv_scores)))\n",
    "\n"
   ],
   "metadata": {
    "collapsed": false,
    "pycharm": {
     "name": "#%%\n"
    }
   }
  },
  {
   "cell_type": "code",
   "execution_count": 41,
   "outputs": [
    {
     "name": "stderr",
     "text": [
      "/Users/Erkin/PycharmProjects/CS156Assignment2/venv/lib/python3.7/site-packages/sklearn/linear_model/sag.py:337: ConvergenceWarning: The max_iter was reached which means the coef_ did not converge\n  \"the coef_ did not converge\", ConvergenceWarning)\n"
     ],
     "output_type": "stream"
    }
   ],
   "source": [
    "#Since Cs didn't impact the performance I choose the lowest value\n",
    "#I fit the model into a logistic regression and predict for the test data\n",
    "\n",
    "glm = LogisticRegression(C=1.0, solver='sag')\n",
    "glm.fit(X_train, Y_train)\n",
    "pred = glm.predict(X_test)\n"
   ],
   "metadata": {
    "collapsed": false,
    "pycharm": {
     "name": "#%%\n",
     "is_executing": false
    }
   }
  },
  {
   "cell_type": "code",
   "execution_count": 42,
   "outputs": [
    {
     "name": "stdout",
     "text": [
      "Accuracy:  0.947736752469055\nPrecision:  0.947736752469055\nRecall:  0.947736752469055\n",
      "ROC:  0.5\n"
     ],
     "output_type": "stream"
    }
   ],
   "source": [
    "#Getting the accuracy metrics\n",
    "\n",
    "from sklearn import metrics\n",
    "\n",
    "#Accuracy\n",
    "print('Accuracy: ', metrics.accuracy_score(Y_test, pred))\n",
    "\n",
    "#Precision and recall\n",
    "print('Precision: ', metrics.precision_score(Y_test, pred, average='micro'))\n",
    "print('Recall: ', metrics.recall_score(Y_test, pred, average='micro'))\n",
    "\n",
    "#Receiver Operating Characteristic (ROC)\n",
    "print('ROC: ', metrics.roc_auc_score(Y_test, pred))"
   ],
   "metadata": {
    "collapsed": false,
    "pycharm": {
     "name": "#%%\n",
     "is_executing": false
    }
   }
  },
  {
   "cell_type": "code",
   "execution_count": 43,
   "outputs": [],
   "source": [
    "#Here I define a fuction that tries to guess the maximum amount of loan a person can take with the given stats.\n",
    "#It doesn't work \n",
    "\n",
    "def predict_loan_status(date, dti, state, employment, confidence):\n",
    "    #optimization starts from the lowest amount of loan one can take\n",
    "    \n",
    "    start_amount = -0.99\n",
    "    \n",
    "    #data is turned into the format that I can input the logistic regression\n",
    "    state_list = ['AL', 'AR', 'AZ', 'CA', 'CO', 'CT', 'DC', 'DE', 'FL', 'GA', 'HI', 'IA', 'ID', 'IL', 'IN', 'KS', 'KY', 'LA', 'MA', 'MD', 'ME', 'MI', 'MN', 'MO', 'MS', 'MT', 'NC', 'NE', 'ND', 'NH', 'NJ', 'NM', 'NV', 'NY', 'OH', 'OK', 'OR', 'PA', 'RI', 'SC', 'SD', 'TN', 'TX', 'UT', 'VA', 'VT' ,'WA', 'WI', 'WV', 'WY']\n",
    "    state_numbers = [0]*len(state_list)\n",
    "    employment_year_list = ['10+ years', '2 years', '3 years', '4 years', '5 years', '6 years', '7 years', '8 years', '9 years', '< 1 year']\n",
    "    employment_numbers = [0]*len(employment_year_list)\n",
    "    for i in range(0, len(state_list)):\n",
    "        if state == state_list[i]:\n",
    "            state_numbers[i] = 1\n",
    "            break\n",
    "    for i in range(0, len(employment_year_list)):\n",
    "        if employment == employment_year_list[i]:\n",
    "            employment_numbers[i] = 1\n",
    "            break    \n",
    "    input_data = [start_amount, date, dti]\n",
    "    input_data = [input_data + state_numbers + employment_numbers]\n",
    "    \n",
    "    #I get the p-value from the logistic regression\n",
    "    p = glm.predict_proba(input_data)[0]\n",
    "    \n",
    "    #I decide on a learning rate. This amount is added to the loan amount to test whether a person can still take the loan\n",
    "    learn_rate = 0.05\n",
    "    \n",
    "    #If the person initially cannot take any loans we get this\n",
    "    if p[0] <= confidence:\n",
    "        print('Sorry but you should improve your stats before applying for a loan')\n",
    "    else:\n",
    "        #Imake a while loop that tries to constantly increase the loan amount as much as it can\n",
    "        \n",
    "        while (p[0] > confidence) and input_data[0][0] <= 1:\n",
    "            input_data[0][0] = input_data[0][0] + learn_rate\n",
    "            p = glm.predict_proba(input_data)[0]\n",
    "            \n",
    "        #Since the figures are standardized I destandardize them    \n",
    "        amount = (sd[0]*(input_data[0][0]-0.05))+m[0]\n",
    "        print('With ', p[0], ' confidence, you can apply for a loan of ', amount, ' dollars')"
   ],
   "metadata": {
    "collapsed": false,
    "pycharm": {
     "name": "#%%\n",
     "is_executing": false
    }
   }
  },
  {
   "cell_type": "code",
   "execution_count": 44,
   "outputs": [
    {
     "name": "stdout",
     "text": [
      "With  0.982664975535352  confidence, you can apply for a loan of  22948.878179462205  dollars\n"
     ],
     "output_type": "stream"
    }
   ],
   "source": [
    "#Testing\n",
    "predict_loan_status(-0.46763, -0.04465, 'AZ', '1 years', 0.90)"
   ],
   "metadata": {
    "collapsed": false,
    "pycharm": {
     "name": "#%%\n",
     "is_executing": false
    }
   }
  }
 ],
 "metadata": {
  "language_info": {
   "codemirror_mode": {
    "name": "ipython",
    "version": 2
   },
   "file_extension": ".py",
   "mimetype": "text/x-python",
   "name": "python",
   "nbconvert_exporter": "python",
   "pygments_lexer": "ipython2",
   "version": "2.7.6"
  },
  "kernelspec": {
   "name": "python3",
   "language": "python",
   "display_name": "Python 3"
  },
  "pycharm": {
   "stem_cell": {
    "cell_type": "raw",
    "source": [],
    "metadata": {
     "collapsed": false
    }
   }
  }
 },
 "nbformat": 4,
 "nbformat_minor": 0
}